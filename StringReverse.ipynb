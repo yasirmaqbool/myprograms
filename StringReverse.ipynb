{
 "cells": [
  {
   "cell_type": "markdown",
   "id": "a386d535",
   "metadata": {},
   "source": [
    "# Reverse input string"
   ]
  },
  {
   "cell_type": "markdown",
   "id": "9ff3f4b6",
   "metadata": {},
   "source": [
    "    #This program reverse the input string and reverse using two different methods"
   ]
  },
  {
   "cell_type": "code",
   "execution_count": null,
   "id": "7aa35e2d",
   "metadata": {},
   "outputs": [],
   "source": [
    "#Method 1 takes the input and using loop creates and print the reverse string"
   ]
  },
  {
   "cell_type": "code",
   "execution_count": 76,
   "id": "52480818",
   "metadata": {},
   "outputs": [
    {
     "name": "stdout",
     "output_type": "stream",
     "text": [
      "Please input the string you wish to reverse: Abcd efg hijklmnopqrstuvw xyz\n",
      "zyx wvutsrqponmlkjih gfe dcbA\n"
     ]
    }
   ],
   "source": [
    "inpstr=input(\"Please input the string you wish to reverse: \")\n",
    "revstr=''\n",
    "for inp in range(len(inpstr)):\n",
    "    char=inpstr[len(inpstr)-1-inp]\n",
    "    revstr=revstr+char\n",
    "print(revstr)    "
   ]
  },
  {
   "cell_type": "code",
   "execution_count": null,
   "id": "d976b499",
   "metadata": {},
   "outputs": [],
   "source": [
    "#Method 2 takes the input and using slicee "
   ]
  },
  {
   "cell_type": "code",
   "execution_count": 77,
   "id": "28628431",
   "metadata": {},
   "outputs": [
    {
     "name": "stdout",
     "output_type": "stream",
     "text": [
      "Please input the string you wish to reverse: Abcd efg hijklmnopqrstuvw xyz\n",
      "zyx wvutsrqponmlkjih gfe dcbA\n"
     ]
    }
   ],
   "source": [
    "inpstr=input(\"Please input the string you wish to reverse: \")\n",
    "print(inpstr[::-1])"
   ]
  }
 ],
 "metadata": {
  "kernelspec": {
   "display_name": "Python 3 (ipykernel)",
   "language": "python",
   "name": "python3"
  },
  "language_info": {
   "codemirror_mode": {
    "name": "ipython",
    "version": 3
   },
   "file_extension": ".py",
   "mimetype": "text/x-python",
   "name": "python",
   "nbconvert_exporter": "python",
   "pygments_lexer": "ipython3",
   "version": "3.10.2"
  }
 },
 "nbformat": 4,
 "nbformat_minor": 5
}
