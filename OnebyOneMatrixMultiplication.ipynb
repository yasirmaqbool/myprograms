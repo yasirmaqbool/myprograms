{
 "cells": [
  {
   "cell_type": "markdown",
   "id": "c0728f7e",
   "metadata": {},
   "source": [
    "# Matrix multiplication"
   ]
  },
  {
   "cell_type": "code",
   "execution_count": null,
   "id": "bf5cc41a",
   "metadata": {},
   "outputs": [],
   "source": [
    "#This program simply demonstrates how to multiply 1X1 matrix in python and displays the result"
   ]
  },
  {
   "cell_type": "code",
   "execution_count": 35,
   "id": "c623af40",
   "metadata": {},
   "outputs": [
    {
     "name": "stdout",
     "output_type": "stream",
     "text": [
      "First matrix= [1, 2, 3]\n",
      "Second matrix= [1, 2, 3]\n",
      "Result of Multiplication is : [2, 8, 18]\n"
     ]
    }
   ],
   "source": [
    "matrix1=[1,2,3]\n",
    "matrix2=[2,4,6]\n",
    "result=[]\n",
    "print(\"First matrix=\",matrix1)\n",
    "print(\"Second matrix=\",matrix1)\n",
    "for i in range(len(matrix1)):\n",
    "    result.append(matrix1[i]*matrix2[i])\n",
    "print(\"Result of Multiplication is :\",str(result))"
   ]
  }
 ],
 "metadata": {
  "kernelspec": {
   "display_name": "Python 3 (ipykernel)",
   "language": "python",
   "name": "python3"
  },
  "language_info": {
   "codemirror_mode": {
    "name": "ipython",
    "version": 3
   },
   "file_extension": ".py",
   "mimetype": "text/x-python",
   "name": "python",
   "nbconvert_exporter": "python",
   "pygments_lexer": "ipython3",
   "version": "3.10.2"
  }
 },
 "nbformat": 4,
 "nbformat_minor": 5
}
